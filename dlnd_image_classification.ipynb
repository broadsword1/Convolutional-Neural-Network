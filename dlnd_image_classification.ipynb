{
 "cells": [
  {
   "cell_type": "markdown",
   "metadata": {
    "collapsed": true,
    "deletable": true,
    "editable": true
   },
   "source": [
    "# Image Classification\n",
    "In this project, you'll classify images from the [CIFAR-10 dataset](https://www.cs.toronto.edu/~kriz/cifar.html).  The dataset consists of airplanes, dogs, cats, and other objects. You'll preprocess the images, then train a convolutional neural network on all the samples. The images need to be normalized and the labels need to be one-hot encoded.  You'll get to apply what you learned and build a convolutional, max pooling, dropout, and fully connected layers.  At the end, you'll get to see your neural network's predictions on the sample images.\n",
    "## Get the Data\n",
    "Run the following cell to download the [CIFAR-10 dataset for python](https://www.cs.toronto.edu/~kriz/cifar-10-python.tar.gz)."
   ]
  },
  {
   "cell_type": "code",
   "execution_count": 1,
   "metadata": {
    "collapsed": false,
    "deletable": true,
    "editable": true
   },
   "outputs": [
    {
     "name": "stdout",
     "output_type": "stream",
     "text": [
      "All files found!\n"
     ]
    }
   ],
   "source": [
    "\"\"\"\n",
    "DON'T MODIFY ANYTHING IN THIS CELL THAT IS BELOW THIS LINE\n",
    "\"\"\"\n",
    "from urllib.request import urlretrieve\n",
    "from os.path import isfile, isdir\n",
    "from tqdm import tqdm\n",
    "import problem_unittests as tests\n",
    "import tarfile\n",
    "\n",
    "cifar10_dataset_folder_path = 'cifar-10-batches-py'\n",
    "\n",
    "class DLProgress(tqdm):\n",
    "    last_block = 0\n",
    "\n",
    "    def hook(self, block_num=1, block_size=1, total_size=None):\n",
    "        self.total = total_size\n",
    "        self.update((block_num - self.last_block) * block_size)\n",
    "        self.last_block = block_num\n",
    "\n",
    "if not isfile('cifar-10-python.tar.gz'):\n",
    "    with DLProgress(unit='B', unit_scale=True, miniters=1, desc='CIFAR-10 Dataset') as pbar:\n",
    "        urlretrieve(\n",
    "            'https://www.cs.toronto.edu/~kriz/cifar-10-python.tar.gz',\n",
    "            'cifar-10-python.tar.gz',\n",
    "            pbar.hook)\n",
    "\n",
    "if not isdir(cifar10_dataset_folder_path):\n",
    "    with tarfile.open('cifar-10-python.tar.gz') as tar:\n",
    "        tar.extractall()\n",
    "        tar.close()\n",
    "\n",
    "\n",
    "tests.test_folder_path(cifar10_dataset_folder_path)"
   ]
  },
  {
   "cell_type": "markdown",
   "metadata": {
    "deletable": true,
    "editable": true
   },
   "source": [
    "## Explore the Data\n",
    "The dataset is broken into batches to prevent your machine from running out of memory.  The CIFAR-10 dataset consists of 5 batches, named `data_batch_1`, `data_batch_2`, etc.. Each batch contains the labels and images that are one of the following:\n",
    "* airplane\n",
    "* automobile\n",
    "* bird\n",
    "* cat\n",
    "* deer\n",
    "* dog\n",
    "* frog\n",
    "* horse\n",
    "* ship\n",
    "* truck\n",
    "\n",
    "Understanding a dataset is part of making predictions on the data.  Play around with the code cell below by changing the `batch_id` and `sample_id`. The `batch_id` is the id for a batch (1-5). The `sample_id` is the id for a image and label pair in the batch.\n",
    "\n",
    "Ask yourself \"What are all possible labels?\", \"What is the range of values for the image data?\", \"Are the labels in order or random?\".  Answers to questions like these will help you preprocess the data and end up with better predictions."
   ]
  },
  {
   "cell_type": "code",
   "execution_count": 2,
   "metadata": {
    "collapsed": false,
    "deletable": true,
    "editable": true
   },
   "outputs": [
    {
     "name": "stdout",
     "output_type": "stream",
     "text": [
      "\n",
      "Stats of batch 1:\n",
      "Samples: 10000\n",
      "Label Counts: {0: 1005, 1: 974, 2: 1032, 3: 1016, 4: 999, 5: 937, 6: 1030, 7: 1001, 8: 1025, 9: 981}\n",
      "First 20 Labels: [6, 9, 9, 4, 1, 1, 2, 7, 8, 3, 4, 7, 7, 2, 9, 9, 9, 3, 2, 6]\n",
      "\n",
      "Example of Image 5:\n",
      "Image - Min Value: 0 Max Value: 252\n",
      "Image - Shape: (32, 32, 3)\n",
      "Label - Label Id: 1 Name: automobile\n"
     ]
    },
    {
     "data": {
      "image/png": "[encoded data removed]",
      "text/plain": [
       "<matplotlib.figure.Figure at 0x7f883019f438>"
      ]
     },
     "metadata": {
      "image/png": {
       "height": 250,
       "width": 253
      }
     },
     "output_type": "display_data"
    }
   ],
   "source": [
    "%matplotlib inline\n",
    "%config InlineBackend.figure_format = 'retina'\n",
    "\n",
    "import helper\n",
    "import numpy as np\n",
    "\n",
    "# Explore the dataset\n",
    "batch_id = 1\n",
    "sample_id = 5\n",
    "helper.display_stats(cifar10_dataset_folder_path, batch_id, sample_id)"
   ]
  },
  {
   "cell_type": "markdown",
   "metadata": {
    "deletable": true,
    "editable": true
   },
   "source": [
    "## Implement Preprocess Functions\n",
    "### Normalize\n",
    "In the cell below, implement the `normalize` function to take in image data, `x`, and return it as a normalized Numpy array. The values should be in the range of 0 to 1, inclusive.  The return object should be the same shape as `x`."
   ]
  },
  {
   "cell_type": "code",
   "execution_count": 3,
   "metadata": {
    "collapsed": false,
    "deletable": true,
    "editable": true
   },
   "outputs": [
    {
     "name": "stdout",
     "output_type": "stream",
     "text": [
      "Tests Passed\n"
     ]
    }
   ],
   "source": [
    "def normalize(x):\n",
    "    \"\"\"\n",
    "    Normalize a list of sample image data in the range of 0 to 1\n",
    "    : x: List of image data.  The image shape is (32, 32, 3)\n",
    "    : return: Numpy array of normalize data\n",
    "    \"\"\"\n",
    "    # TODO: Implement Function\n",
    "    \n",
    "    return x*1.0/255\n",
    "\n",
    "\n",
    "\"\"\"\n",
    "DON'T MODIFY ANYTHING IN THIS CELL THAT IS BELOW THIS LINE\n",
    "\"\"\"\n",
    "tests.test_normalize(normalize)"
   ]
  },
  {
   "cell_type": "markdown",
   "metadata": {
    "deletable": true,
    "editable": true
   },
   "source": [
    "### One-hot encode\n",
    "Just like the previous code cell, you'll be implementing a function for preprocessing.  This time, you'll implement the `one_hot_encode` function. The input, `x`, are a list of labels.  Implement the function to return the list of labels as One-Hot encoded Numpy array.  The possible values for labels are 0 to 9. The one-hot encoding function should return the same encoding for each value between each call to `one_hot_encode`.  Make sure to save the map of encodings outside the function.\n",
    "\n",
    "Hint: Don't reinvent the wheel."
   ]
  },
  {
   "cell_type": "code",
   "execution_count": 4,
   "metadata": {
    "collapsed": false,
    "deletable": true,
    "editable": true
   },
   "outputs": [
    {
     "name": "stdout",
     "output_type": "stream",
     "text": [
      "Tests Passed\n"
     ]
    }
   ],
   "source": [
    "from sklearn import preprocessing\n",
    "def one_hot_encode(x):\n",
    "    \"\"\"\n",
    "    One hot encode a list of sample labels. Return a one-hot encoded vector for each label.\n",
    "    : x: List of sample Labels\n",
    "    : return: Numpy array of one-hot encoded labels\n",
    "    \"\"\"\n",
    "    # TODO: Implement Function\n",
    "    lb = preprocessing.LabelBinarizer()\n",
    "    lb.fit(x)\n",
    "    lb.classes_ = [0,1,2,3,4,5,6,7,8,9]\n",
    "    #print(lb.classes_)\n",
    "    return lb.transform(x)\n",
    "\n",
    "\n",
    "\"\"\"\n",
    "DON'T MODIFY ANYTHING IN THIS CELL THAT IS BELOW THIS LINE\n",
    "\"\"\"\n",
    "tests.test_one_hot_encode(one_hot_encode)"
   ]
  },
  {
   "cell_type": "markdown",
   "metadata": {
    "deletable": true,
    "editable": true
   },
   "source": [
    "### Randomize Data\n",
    "As you saw from exploring the data above, the order of the samples are randomized.  It doesn't hurt to randomize it again, but you don't need to for this dataset."
   ]
  },
  {
   "cell_type": "markdown",
   "metadata": {
    "deletable": true,
    "editable": true
   },
   "source": [
    "## Preprocess all the data and save it\n",
    "Running the code cell below will preprocess all the CIFAR-10 data and save it to file. The code below also uses 10% of the training data for validation."
   ]
  },
  {
   "cell_type": "code",
   "execution_count": 5,
   "metadata": {
    "collapsed": false,
    "deletable": true,
    "editable": true
   },
   "outputs": [],
   "source": [
    "\"\"\"\n",
    "DON'T MODIFY ANYTHING IN THIS CELL\n",
    "\"\"\"\n",
    "# Preprocess Training, Validation, and Testing Data\n",
    "helper.preprocess_and_save_data(cifar10_dataset_folder_path, normalize, one_hot_encode)"
   ]
  },
  {
   "cell_type": "markdown",
   "metadata": {
    "deletable": true,
    "editable": true
   },
   "source": [
    "# Check Point\n",
    "This is your first checkpoint.  If you ever decide to come back to this notebook or have to restart the notebook, you can start from here.  The preprocessed data has been saved to disk."
   ]
  },
  {
   "cell_type": "code",
   "execution_count": 6,
   "metadata": {
    "collapsed": true,
    "deletable": true,
    "editable": true
   },
   "outputs": [],
   "source": [
    "\"\"\"\n",
    "DON'T MODIFY ANYTHING IN THIS CELL\n",
    "\"\"\"\n",
    "import pickle\n",
    "import problem_unittests as tests\n",
    "import helper\n",
    "\n",
    "# Load the Preprocessed Validation data\n",
    "valid_features, valid_labels = pickle.load(open('preprocess_validation.p', mode='rb'))"
   ]
  },
  {
   "cell_type": "markdown",
   "metadata": {
    "deletable": true,
    "editable": true
   },
   "source": [
    "## Build the network\n",
    "For the neural network, you'll build each layer into a function.  Most of the code you've seen has been outside of functions. To test your code more thoroughly, we require that you put each layer in a function.  This allows us to give you better feedback and test for simple mistakes using our unittests before you submit your project.\n",
    "\n",
    ">**Note:** If you're finding it hard to dedicate enough time for this course each week, we've provided a small shortcut to this part of the project. In the next couple of problems, you'll have the option to use classes from the [TensorFlow Layers](https://www.tensorflow.org/api_docs/python/tf/layers) or [TensorFlow Layers (contrib)](https://www.tensorflow.org/api_guides/python/contrib.layers) packages to build each layer, except the layers you build in the \"Convolutional and Max Pooling Layer\" section.  TF Layers is similar to Keras's and TFLearn's abstraction to layers, so it's easy to pickup.\n",
    "\n",
    ">However, if you would like to get the most out of this course, try to solve all the problems _without_ using anything from the TF Layers packages. You **can** still use classes from other packages that happen to have the same name as ones you find in TF Layers! For example, instead of using the TF Layers version of the `conv2d` class, [tf.layers.conv2d](https://www.tensorflow.org/api_docs/python/tf/layers/conv2d), you would want to use the TF Neural Network version of `conv2d`, [tf.nn.conv2d](https://www.tensorflow.org/api_docs/python/tf/nn/conv2d). \n",
    "\n",
    "Let's begin!\n",
    "\n",
    "### Input\n",
    "The neural network needs to read the image data, one-hot encoded labels, and dropout keep probability. Implement the following functions\n",
    "* Implement `neural_net_image_input`\n",
    " * Return a [TF Placeholder](https://www.tensorflow.org/api_docs/python/tf/placeholder)\n",
    " * Set the shape using `image_shape` with batch size set to `None`.\n",
    " * Name the TensorFlow placeholder \"x\" using the TensorFlow `name` parameter in the [TF Placeholder](https://www.tensorflow.org/api_docs/python/tf/placeholder).\n",
    "* Implement `neural_net_label_input`\n",
    " * Return a [TF Placeholder](https://www.tensorflow.org/api_docs/python/tf/placeholder)\n",
    " * Set the shape using `n_classes` with batch size set to `None`.\n",
    " * Name the TensorFlow placeholder \"y\" using the TensorFlow `name` parameter in the [TF Placeholder](https://www.tensorflow.org/api_docs/python/tf/placeholder).\n",
    "* Implement `neural_net_keep_prob_input`\n",
    " * Return a [TF Placeholder](https://www.tensorflow.org/api_docs/python/tf/placeholder) for dropout keep probability.\n",
    " * Name the TensorFlow placeholder \"keep_prob\" using the TensorFlow `name` parameter in the [TF Placeholder](https://www.tensorflow.org/api_docs/python/tf/placeholder).\n",
    "\n",
    "These names will be used at the end of the project to load your saved model.\n",
    "\n",
    "Note: `None` for shapes in TensorFlow allow for a dynamic size."
   ]
  },
  {
   "cell_type": "code",
   "execution_count": 7,
   "metadata": {
    "collapsed": false,
    "deletable": true,
    "editable": true
   },
   "outputs": [
    {
     "name": "stdout",
     "output_type": "stream",
     "text": [
      "Image Input Tests Passed.\n",
      "Label Input Tests Passed.\n",
      "Keep Prob Tests Passed.\n"
     ]
    }
   ],
   "source": [
    "import tensorflow as tf\n",
    "\n",
    "def neural_net_image_input(image_shape):\n",
    "    \"\"\"\n",
    "    Return a Tensor for a batch of image input\n",
    "    : image_shape: Shape of the images\n",
    "    : return: Tensor for image input.\n",
    "    \"\"\"\n",
    "    # TODO: Implement Function\n",
    "    \n",
    "    size = [None]+[dim for dim in image_shape]\n",
    "    x = tf.placeholder(tf.float32,size,name='x')\n",
    "    return x\n",
    "\n",
    "\n",
    "def neural_net_label_input(n_classes):\n",
    "    \"\"\"\n",
    "    Return a Tensor for a batch of label input\n",
    "    : n_classes: Number of classes\n",
    "    : return: Tensor for label input.\n",
    "    \"\"\"\n",
    "    # TODO: Implement Function\n",
    "    y =tf.placeholder(tf.float32, [None,n_classes], name='y')\n",
    "    return y\n",
    "\n",
    "\n",
    "def neural_net_keep_prob_input():\n",
    "    \"\"\"\n",
    "    Return a Tensor for keep probability\n",
    "    : return: Tensor for keep probability.\n",
    "    \"\"\"\n",
    "    # TODO: Implement Function\n",
    "    p = tf.placeholder(tf.float32, name='keep_prob')\n",
    "    return p\n",
    "\n",
    "\n",
    "\"\"\"\n",
    "DON'T MODIFY ANYTHING IN THIS CELL THAT IS BELOW THIS LINE\n",
    "\"\"\"\n",
    "tf.reset_default_graph()\n",
    "tests.test_nn_image_inputs(neural_net_image_input)\n",
    "tests.test_nn_label_inputs(neural_net_label_input)\n",
    "tests.test_nn_keep_prob_inputs(neural_net_keep_prob_input)"
   ]
  },
  {
   "cell_type": "markdown",
   "metadata": {
    "deletable": true,
    "editable": true
   },
   "source": [
    "### Convolution and Max Pooling Layer\n",
    "Convolution layers have a lot of success with images. For this code cell, you should implement the function `conv2d_maxpool` to apply convolution then max pooling:\n",
    "* Create the weight and bias using `conv_ksize`, `conv_num_outputs` and the shape of `x_tensor`.\n",
    "* Apply a convolution to `x_tensor` using weight and `conv_strides`.\n",
    " * We recommend you use same padding, but you're welcome to use any padding.\n",
    "* Add bias\n",
    "* Add a nonlinear activation to the convolution.\n",
    "* Apply Max Pooling using `pool_ksize` and `pool_strides`.\n",
    " * We recommend you use same padding, but you're welcome to use any padding.\n",
    "\n",
    "**Note:** You **can't** use [TensorFlow Layers](https://www.tensorflow.org/api_docs/python/tf/layers) or [TensorFlow Layers (contrib)](https://www.tensorflow.org/api_guides/python/contrib.layers) for **this** layer, but you can still use TensorFlow's [Neural Network](https://www.tensorflow.org/api_docs/python/tf/nn) package. You may still use the shortcut option for all the **other** layers."
   ]
  },
  {
   "cell_type": "code",
   "execution_count": 20,
   "metadata": {
    "collapsed": false,
    "deletable": true,
    "editable": true
   },
   "outputs": [
    {
     "name": "stdout",
     "output_type": "stream",
     "text": [
      "Tests Passed\n"
     ]
    }
   ],
   "source": [
    "def conv2d_maxpool(x_tensor, conv_num_outputs, conv_ksize, conv_strides, pool_ksize, pool_strides):\n",
    "    \"\"\"\n",
    "    Apply convolution then max pooling to x_tensor\n",
    "    :param x_tensor: TensorFlow Tensor\n",
    "    :param conv_num_outputs: Number of outputs for the convolutional layer\n",
    "    :param conv_ksize: kernal size 2-D Tuple for the convolutional layer\n",
    "    :param conv_strides: Stride 2-D Tuple for convolution\n",
    "    :param pool_ksize: kernal size 2-D Tuple for pool\n",
    "    :param pool_strides: Stride 2-D Tuple for pool\n",
    "    : return: A tensor that represents convolution and max pooling of x_tensor\n",
    "    \"\"\"\n",
    "    # TODO: Implement Function\n",
    "    #weight shape\n",
    "    w1 = list(conv_ksize)+[x_tensor.get_shape().as_list()[-1],conv_num_outputs]\n",
    "    \n",
    "    weight =tf.Variable(tf.truncated_normal(w1,mean=0.0, stddev=0.1))\n",
    "    #print(weight)\n",
    "    bias = tf.Variable(tf.zeros(conv_num_outputs))\n",
    "    \n",
    "    convl = tf.nn.conv2d(x_tensor,weight, strides=[1,conv_strides[0],conv_strides[1],1],padding='SAME')\n",
    "    #print(convl)\n",
    "    convl= tf.nn.bias_add(convl,bias)\n",
    "    convl=tf.nn.relu(convl)\n",
    "    convl=tf.nn.max_pool(convl, ksize=[1] + list(pool_ksize) + [1],strides=[1] + list(pool_strides) + [1],padding='SAME')\n",
    "    #print(convl)\n",
    "    return convl \n",
    "    \n",
    "\n",
    "\"\"\"\n",
    "DON'T MODIFY ANYTHING IN THIS CELL THAT IS BELOW THIS LINE\n",
    "\"\"\"\n",
    "tests.test_con_pool(conv2d_maxpool)"
   ]
  },
  {
   "cell_type": "markdown",
   "metadata": {
    "deletable": true,
    "editable": true
   },
   "source": [
    "### Flatten Layer\n",
    "Implement the `flatten` function to change the dimension of `x_tensor` from a 4-D tensor to a 2-D tensor.  The output should be the shape (*Batch Size*, *Flattened Image Size*). Shortcut option: you can use classes from the [TensorFlow Layers](https://www.tensorflow.org/api_docs/python/tf/layers) or [TensorFlow Layers (contrib)](https://www.tensorflow.org/api_guides/python/contrib.layers) packages for this layer. For more of a challenge, only use other TensorFlow packages."
   ]
  },
  {
   "cell_type": "code",
   "execution_count": 25,
   "metadata": {
    "collapsed": false,
    "deletable": true,
    "editable": true
   },
   "outputs": [
    {
     "name": "stdout",
     "output_type": "stream",
     "text": [
      "Tests Passed\n"
     ]
    }
   ],
   "source": [
    "def flatten(x_tensor):\n",
    "    \"\"\"\n",
    "    Flatten x_tensor to (Batch Size, Flattened Image Size)\n",
    "    : x_tensor: A tensor of size (Batch Size, ...), where ... are the image dimensions.\n",
    "    : return: A tensor of size (Batch Size, Flattened Image Size).\n",
    "    \"\"\"\n",
    "    # TODO: Implement Function\n",
    "    size = x_tensor.get_shape().as_list()\n",
    "    # print(size)\n",
    "    return tf.reshape(x_tensor,[-1,size[1]*size[2]*size[3]])\n",
    "\n",
    "\n",
    "\"\"\"\n",
    "DON'T MODIFY ANYTHING IN THIS CELL THAT IS BELOW THIS LINE\n",
    "\"\"\"\n",
    "tests.test_flatten(flatten)"
   ]
  },
  {
   "cell_type": "markdown",
   "metadata": {
    "deletable": true,
    "editable": true
   },
   "source": [
    "### Fully-Connected Layer\n",
    "Implement the `fully_conn` function to apply a fully connected layer to `x_tensor` with the shape (*Batch Size*, *num_outputs*). Shortcut option: you can use classes from the [TensorFlow Layers](https://www.tensorflow.org/api_docs/python/tf/layers) or [TensorFlow Layers (contrib)](https://www.tensorflow.org/api_guides/python/contrib.layers) packages for this layer. For more of a challenge, only use other TensorFlow packages."
   ]
  },
  {
   "cell_type": "code",
   "execution_count": 32,
   "metadata": {
    "collapsed": false,
    "deletable": true,
    "editable": true
   },
   "outputs": [
    {
     "name": "stdout",
     "output_type": "stream",
     "text": [
      "Tests Passed\n"
     ]
    }
   ],
   "source": [
    "def fully_conn(x_tensor, num_outputs):\n",
    "    \"\"\"\n",
    "    Apply a fully connected layer to x_tensor using weight and bias\n",
    "    : x_tensor: A 2-D tensor where the first dimension is batch size.\n",
    "    : num_outputs: The number of output that the new tensor should be.\n",
    "    : return: A 2-D tensor where the second dimension is num_outputs.\n",
    "    \"\"\"\n",
    "    # TODO: Implement Function\n",
    "    weight = tf.Variable(tf.truncated_normal([x_tensor.get_shape().as_list()[1],num_outputs],mean=0.0,stddev=0.1))\n",
    "    bias = tf.Variable(tf.truncated_normal([num_outputs]))\n",
    "    #print(bias)\n",
    "    full_c=tf.nn.bias_add(tf.matmul(x_tensor,weight),bias)\n",
    "    full_c=tf.nn.relu(full_c)\n",
    "    return full_c\n",
    "\n",
    "\n",
    "\"\"\"\n",
    "DON'T MODIFY ANYTHING IN THIS CELL THAT IS BELOW THIS LINE\n",
    "\"\"\"\n",
    "tests.test_fully_conn(fully_conn)"
   ]
  },
  {
   "cell_type": "markdown",
   "metadata": {
    "deletable": true,
    "editable": true
   },
   "source": [
    "### Output Layer\n",
    "Implement the `output` function to apply a fully connected layer to `x_tensor` with the shape (*Batch Size*, *num_outputs*). Shortcut option: you can use classes from the [TensorFlow Layers](https://www.tensorflow.org/api_docs/python/tf/layers) or [TensorFlow Layers (contrib)](https://www.tensorflow.org/api_guides/python/contrib.layers) packages for this layer. For more of a challenge, only use other TensorFlow packages.\n",
    "\n",
    "**Note:** Activation, softmax, or cross entropy should **not** be applied to this."
   ]
  },
  {
   "cell_type": "code",
   "execution_count": 35,
   "metadata": {
    "collapsed": false,
    "deletable": true,
    "editable": true
   },
   "outputs": [
    {
     "name": "stdout",
     "output_type": "stream",
     "text": [
      "Tests Passed\n"
     ]
    }
   ],
   "source": [
    "def output(x_tensor, num_outputs):\n",
    "    \"\"\"\n",
    "    Apply a output layer to x_tensor using weight and bias\n",
    "    : x_tensor: A 2-D tensor where the first dimension is batch size.\n",
    "    : num_outputs: The number of output that the new tensor should be.\n",
    "    : return: A 2-D tensor where the second dimension is num_outputs.\n",
    "    \"\"\"\n",
    "    # TODO: Implement Function\n",
    "   \n",
    " \n",
    "    weight = tf.Variable(tf.truncated_normal([x_tensor.get_shape().as_list()[1],num_outputs], mean=0.0, stddev = 0.1))\n",
    "    \n",
    "    bias = tf.Variable(tf.zeros(num_outputs))\n",
    "    \n",
    "    out = tf.add(tf.matmul(x_tensor, weight), bias)\n",
    "    #print(out)\n",
    "    return out\n",
    "\n",
    "\"\"\"\n",
    "DON'T MODIFY ANYTHING IN THIS CELL THAT IS BELOW THIS LINE\n",
    "\"\"\"\n",
    "tests.test_output(output)"
   ]
  },
  {
   "cell_type": "markdown",
   "metadata": {
    "deletable": true,
    "editable": true
   },
   "source": [
    "### Create Convolutional Model\n",
    "Implement the function `conv_net` to create a convolutional neural network model. The function takes in a batch of images, `x`, and outputs logits.  Use the layers you created above to create this model:\n",
    "\n",
    "* Apply 1, 2, or 3 Convolution and Max Pool layers\n",
    "* Apply a Flatten Layer\n",
    "* Apply 1, 2, or 3 Fully Connected Layers\n",
    "* Apply an Output Layer\n",
    "* Return the output\n",
    "* Apply [TensorFlow's Dropout](https://www.tensorflow.org/api_docs/python/tf/nn/dropout) to one or more layers in the model using `keep_prob`. "
   ]
  },
  {
   "cell_type": "code",
   "execution_count": 43,
   "metadata": {
    "collapsed": false,
    "deletable": true,
    "editable": true
   },
   "outputs": [
    {
     "name": "stdout",
     "output_type": "stream",
     "text": [
      "Neural Network Built!\n"
     ]
    }
   ],
   "source": [
    "def conv_net(x, keep_prob):\n",
    "    \"\"\"\n",
    "    Create a convolutional neural network model\n",
    "    : x: Placeholder tensor that holds image data.\n",
    "    : keep_prob: Placeholder tensor that hold dropout keep probability.\n",
    "    : return: Tensor that represents logits\n",
    "    \"\"\"\n",
    "    # TODO: Apply 1, 2, or 3 Convolution and Max Pool layers\n",
    "    #    Play around with different number of outputs, kernel size and stride\n",
    "    # Function Definition from Above:\n",
    "    #    conv2d_maxpool(x_tensor, conv_num_outputs, conv_ksize, conv_strides, pool_ksize, pool_strides)\n",
    "    convl_1 = conv2d_maxpool(x, 5, (4,4), (1,1), (2,2), (2,2))\n",
    "    #drop1 = tf.nn.dropout(conv1_1, keep_prob)\n",
    "    convl_2 = conv2d_maxpool(convl_1, 10, (3,3), (1,1), (2,2), (2,2))\n",
    "    convl_3 = conv2d_maxpool(convl_2, 20, (3,3), (1,1), (2,2), (2,2))\n",
    "    \n",
    "    \n",
    "\n",
    "    # TODO: Apply a Flatten Layer\n",
    "    # Function Definition from Above:\n",
    "    flat_l = flatten(convl_3)\n",
    "\n",
    "    # TODO: Apply 1, 2, or 3 Fully Connected Layers\n",
    "    #    Play around with different number of outputs\n",
    "    # Function Definition from Above:\n",
    "    full_c2 = fully_conn(flat_l, 512)\n",
    "    drop = tf.nn.dropout(full_c2, keep_prob)\n",
    "    full_c3 = fully_conn(drop, 256)\n",
    "    #drop3 = tf.nn.dropout(full_c3, keep_prob)\n",
    "    \n",
    "    \n",
    "    # TODO: Apply an Output Layer\n",
    "    #    Set this to the number of classes\n",
    "    # Function Definition from Above:\n",
    "    logits = output(full_c3, 10)\n",
    "    \n",
    "    \n",
    "    # TODO: return output\n",
    "    return logits\n",
    "\"\"\"\n",
    "DON'T MODIFY ANYTHING IN THIS CELL THAT IS BELOW THIS LINE\n",
    "\"\"\"\n",
    "\n",
    "##############################\n",
    "## Build the Neural Network ##\n",
    "##############################\n",
    "\n",
    "# Remove previous weights, bias, inputs, etc..\n",
    "tf.reset_default_graph()\n",
    "\n",
    "# Inputs\n",
    "x = neural_net_image_input((32, 32, 3))\n",
    "y = neural_net_label_input(10)\n",
    "keep_prob = neural_net_keep_prob_input()\n",
    "\n",
    "# Model\n",
    "logits = conv_net(x, keep_prob)\n",
    "\n",
    "# Name logits Tensor, so that is can be loaded from disk after training\n",
    "logits = tf.identity(logits, name='logits')\n",
    "\n",
    "# Loss and Optimizer\n",
    "cost = tf.reduce_mean(tf.nn.softmax_cross_entropy_with_logits(logits=logits, labels=y))\n",
    "optimizer = tf.train.AdamOptimizer().minimize(cost)\n",
    "\n",
    "# Accuracy\n",
    "correct_pred = tf.equal(tf.argmax(logits, 1), tf.argmax(y, 1))\n",
    "accuracy = tf.reduce_mean(tf.cast(correct_pred, tf.float32), name='accuracy')\n",
    "\n",
    "tests.test_conv_net(conv_net)"
   ]
  },
  {
   "cell_type": "markdown",
   "metadata": {
    "deletable": true,
    "editable": true
   },
   "source": [
    "## Train the Neural Network\n",
    "### Single Optimization\n",
    "Implement the function `train_neural_network` to do a single optimization.  The optimization should use `optimizer` to optimize in `session` with a `feed_dict` of the following:\n",
    "* `x` for image input\n",
    "* `y` for labels\n",
    "* `keep_prob` for keep probability for dropout\n",
    "\n",
    "This function will be called for each batch, so `tf.global_variables_initializer()` has already been called.\n",
    "\n",
    "Note: Nothing needs to be returned. This function is only optimizing the neural network."
   ]
  },
  {
   "cell_type": "code",
   "execution_count": 45,
   "metadata": {
    "collapsed": false,
    "deletable": true,
    "editable": true
   },
   "outputs": [
    {
     "name": "stdout",
     "output_type": "stream",
     "text": [
      "Tests Passed\n"
     ]
    }
   ],
   "source": [
    "def train_neural_network(session, optimizer, keep_probability, feature_batch, label_batch):\n",
    "    \"\"\"\n",
    "    Optimize the session on a batch of images and labels\n",
    "    : session: Current TensorFlow session\n",
    "    : optimizer: TensorFlow optimizer function\n",
    "    : keep_probability: keep probability\n",
    "    : feature_batch: Batch of Numpy image data\n",
    "    : label_batch: Batch of Numpy label data\n",
    "    \"\"\"\n",
    "    # TODO: Implement Function\n",
    "    session.run(optimizer, feed_dict={x: feature_batch,y: label_batch,keep_prob: keep_probability})\n",
    "\n",
    "\n",
    "\"\"\"\n",
    "DON'T MODIFY ANYTHING IN THIS CELL THAT IS BELOW THIS LINE\n",
    "\"\"\"\n",
    "tests.test_train_nn(train_neural_network)"
   ]
  },
  {
   "cell_type": "markdown",
   "metadata": {
    "deletable": true,
    "editable": true
   },
   "source": [
    "### Show Stats\n",
    "Implement the function `print_stats` to print loss and validation accuracy.  Use the global variables `valid_features` and `valid_labels` to calculate validation accuracy.  Use a keep probability of `1.0` to calculate the loss and validation accuracy."
   ]
  },
  {
   "cell_type": "code",
   "execution_count": 53,
   "metadata": {
    "collapsed": false,
    "deletable": true,
    "editable": true
   },
   "outputs": [],
   "source": [
    "def print_stats(session, feature_batch, label_batch, cost, accuracy):\n",
    "    \"\"\"\n",
    "    Print information about loss and validation accuracy\n",
    "    : session: Current TensorFlow session\n",
    "    : feature_batch: Batch of Numpy image data\n",
    "    : label_batch: Batch of Numpy label data\n",
    "    : cost: TensorFlow cost function\n",
    "    : accuracy: TensorFlow accuracy function\n",
    "    \"\"\"\n",
    "    # TODO: Implement Function\n",
    "    loss =session.run(cost, feed_dict={x: feature_batch, y: label_batch, keep_prob: 1.0})\n",
    "    val_acc = session.run(accuracy, feed_dict={x: valid_features, y: valid_labels, keep_prob: 1.0})\n",
    "    print('Loss:{:>10.4f} Validation Accuracy:{:.6f}'.format(loss, val_acc))\n",
    "          "
   ]
  },
  {
   "cell_type": "markdown",
   "metadata": {
    "deletable": true,
    "editable": true
   },
   "source": [
    "### Hyperparameters\n",
    "Tune the following parameters:\n",
    "* Set `epochs` to the number of iterations until the network stops learning or start overfitting\n",
    "* Set `batch_size` to the highest number that your machine has memory for.  Most people set them to common sizes of memory:\n",
    " * 64\n",
    " * 128\n",
    " * 256\n",
    " * ...\n",
    "* Set `keep_probability` to the probability of keeping a node using dropout"
   ]
  },
  {
   "cell_type": "code",
   "execution_count": 54,
   "metadata": {
    "collapsed": true,
    "deletable": true,
    "editable": true
   },
   "outputs": [],
   "source": [
    "# TODO: Tune Parameters\n",
    "epochs = 60\n",
    "batch_size = 512\n",
    "keep_probability = .7"
   ]
  },
  {
   "cell_type": "markdown",
   "metadata": {
    "deletable": true,
    "editable": true
   },
   "source": [
    "### Train on a Single CIFAR-10 Batch\n",
    "Instead of training the neural network on all the CIFAR-10 batches of data, let's use a single batch. This should save time while you iterate on the model to get a better accuracy.  Once the final validation accuracy is 50% or greater, run the model on all the data in the next section."
   ]
  },
  {
   "cell_type": "code",
   "execution_count": 55,
   "metadata": {
    "collapsed": false,
    "deletable": true,
    "editable": true
   },
   "outputs": [
    {
     "name": "stdout",
     "output_type": "stream",
     "text": [
      "Checking the Training on a Single Batch...\n",
      "Epoch  1, CIFAR-10 Batch 1:  Loss:    2.3873 Validation Accuracy:0.094600\n",
      "Epoch  2, CIFAR-10 Batch 1:  Loss:    2.2747 Validation Accuracy:0.129800\n",
      "Epoch  3, CIFAR-10 Batch 1:  Loss:    2.1858 Validation Accuracy:0.237000\n",
      "Epoch  4, CIFAR-10 Batch 1:  Loss:    2.0750 Validation Accuracy:0.268800\n",
      "Epoch  5, CIFAR-10 Batch 1:  Loss:    1.9802 Validation Accuracy:0.296600\n",
      "Epoch  6, CIFAR-10 Batch 1:  Loss:    1.8779 Validation Accuracy:0.330600\n",
      "Epoch  7, CIFAR-10 Batch 1:  Loss:    1.7876 Validation Accuracy:0.365000\n",
      "Epoch  8, CIFAR-10 Batch 1:  Loss:    1.7307 Validation Accuracy:0.382000\n",
      "Epoch  9, CIFAR-10 Batch 1:  Loss:    1.6741 Validation Accuracy:0.409200\n",
      "Epoch 10, CIFAR-10 Batch 1:  Loss:    1.6376 Validation Accuracy:0.413000\n",
      "Epoch 11, CIFAR-10 Batch 1:  Loss:    1.5954 Validation Accuracy:0.428600\n",
      "Epoch 12, CIFAR-10 Batch 1:  Loss:    1.5689 Validation Accuracy:0.442400\n",
      "Epoch 13, CIFAR-10 Batch 1:  Loss:    1.5365 Validation Accuracy:0.452200\n",
      "Epoch 14, CIFAR-10 Batch 1:  Loss:    1.5015 Validation Accuracy:0.459400\n",
      "Epoch 15, CIFAR-10 Batch 1:  Loss:    1.4703 Validation Accuracy:0.468400\n",
      "Epoch 16, CIFAR-10 Batch 1:  Loss:    1.4395 Validation Accuracy:0.471600\n",
      "Epoch 17, CIFAR-10 Batch 1:  Loss:    1.4136 Validation Accuracy:0.477000\n",
      "Epoch 18, CIFAR-10 Batch 1:  Loss:    1.3711 Validation Accuracy:0.490800\n",
      "Epoch 19, CIFAR-10 Batch 1:  Loss:    1.3526 Validation Accuracy:0.493200\n",
      "Epoch 20, CIFAR-10 Batch 1:  Loss:    1.3198 Validation Accuracy:0.499000\n",
      "Epoch 21, CIFAR-10 Batch 1:  Loss:    1.2848 Validation Accuracy:0.509000\n",
      "Epoch 22, CIFAR-10 Batch 1:  Loss:    1.2515 Validation Accuracy:0.515600\n",
      "Epoch 23, CIFAR-10 Batch 1:  Loss:    1.2184 Validation Accuracy:0.517000\n",
      "Epoch 24, CIFAR-10 Batch 1:  Loss:    1.1981 Validation Accuracy:0.518600\n",
      "Epoch 25, CIFAR-10 Batch 1:  Loss:    1.1659 Validation Accuracy:0.518200\n",
      "Epoch 26, CIFAR-10 Batch 1:  Loss:    1.1246 Validation Accuracy:0.526800\n",
      "Epoch 27, CIFAR-10 Batch 1:  Loss:    1.0991 Validation Accuracy:0.528200\n",
      "Epoch 28, CIFAR-10 Batch 1:  Loss:    1.0756 Validation Accuracy:0.534600\n",
      "Epoch 29, CIFAR-10 Batch 1:  Loss:    1.0504 Validation Accuracy:0.534800\n",
      "Epoch 30, CIFAR-10 Batch 1:  Loss:    1.0287 Validation Accuracy:0.533800\n",
      "Epoch 31, CIFAR-10 Batch 1:  Loss:    1.0136 Validation Accuracy:0.527000\n",
      "Epoch 32, CIFAR-10 Batch 1:  Loss:    0.9700 Validation Accuracy:0.538000\n",
      "Epoch 33, CIFAR-10 Batch 1:  Loss:    0.9241 Validation Accuracy:0.540800\n",
      "Epoch 34, CIFAR-10 Batch 1:  Loss:    0.8768 Validation Accuracy:0.542400\n",
      "Epoch 35, CIFAR-10 Batch 1:  Loss:    0.8737 Validation Accuracy:0.540000\n",
      "Epoch 36, CIFAR-10 Batch 1:  Loss:    0.8367 Validation Accuracy:0.543800\n",
      "Epoch 37, CIFAR-10 Batch 1:  Loss:    0.7979 Validation Accuracy:0.546000\n",
      "Epoch 38, CIFAR-10 Batch 1:  Loss:    0.7652 Validation Accuracy:0.552400\n",
      "Epoch 39, CIFAR-10 Batch 1:  Loss:    0.7472 Validation Accuracy:0.544000\n",
      "Epoch 40, CIFAR-10 Batch 1:  Loss:    0.7159 Validation Accuracy:0.552800\n",
      "Epoch 41, CIFAR-10 Batch 1:  Loss:    0.6941 Validation Accuracy:0.549000\n",
      "Epoch 42, CIFAR-10 Batch 1:  Loss:    0.6567 Validation Accuracy:0.547000\n",
      "Epoch 43, CIFAR-10 Batch 1:  Loss:    0.6276 Validation Accuracy:0.553000\n",
      "Epoch 44, CIFAR-10 Batch 1:  Loss:    0.6068 Validation Accuracy:0.555400\n",
      "Epoch 45, CIFAR-10 Batch 1:  Loss:    0.5862 Validation Accuracy:0.547000\n",
      "Epoch 46, CIFAR-10 Batch 1:  Loss:    0.5787 Validation Accuracy:0.549400\n",
      "Epoch 47, CIFAR-10 Batch 1:  Loss:    0.5309 Validation Accuracy:0.551400\n",
      "Epoch 48, CIFAR-10 Batch 1:  Loss:    0.5212 Validation Accuracy:0.548200\n",
      "Epoch 49, CIFAR-10 Batch 1:  Loss:    0.4642 Validation Accuracy:0.557000\n",
      "Epoch 50, CIFAR-10 Batch 1:  Loss:    0.4878 Validation Accuracy:0.545600\n",
      "Epoch 51, CIFAR-10 Batch 1:  Loss:    0.4474 Validation Accuracy:0.553000\n",
      "Epoch 52, CIFAR-10 Batch 1:  Loss:    0.4468 Validation Accuracy:0.547600\n",
      "Epoch 53, CIFAR-10 Batch 1:  Loss:    0.4015 Validation Accuracy:0.551200\n",
      "Epoch 54, CIFAR-10 Batch 1:  Loss:    0.4216 Validation Accuracy:0.554800\n",
      "Epoch 55, CIFAR-10 Batch 1:  Loss:    0.3662 Validation Accuracy:0.555000\n",
      "Epoch 56, CIFAR-10 Batch 1:  Loss:    0.3689 Validation Accuracy:0.554000\n",
      "Epoch 57, CIFAR-10 Batch 1:  Loss:    0.3430 Validation Accuracy:0.554000\n",
      "Epoch 58, CIFAR-10 Batch 1:  Loss:    0.3108 Validation Accuracy:0.554400\n",
      "Epoch 59, CIFAR-10 Batch 1:  Loss:    0.3025 Validation Accuracy:0.555400\n",
      "Epoch 60, CIFAR-10 Batch 1:  Loss:    0.3139 Validation Accuracy:0.546200\n"
     ]
    }
   ],
   "source": [
    "\"\"\"\n",
    "DON'T MODIFY ANYTHING IN THIS CELL\n",
    "\"\"\"\n",
    "print('Checking the Training on a Single Batch...')\n",
    "with tf.Session() as sess:\n",
    "    # Initializing the variables\n",
    "    sess.run(tf.global_variables_initializer())\n",
    "    \n",
    "    # Training cycle\n",
    "    for epoch in range(epochs):\n",
    "        batch_i = 1\n",
    "        for batch_features, batch_labels in helper.load_preprocess_training_batch(batch_i, batch_size):\n",
    "            train_neural_network(sess, optimizer, keep_probability, batch_features, batch_labels)\n",
    "        print('Epoch {:>2}, CIFAR-10 Batch {}:  '.format(epoch + 1, batch_i), end='')\n",
    "        print_stats(sess, batch_features, batch_labels, cost, accuracy)"
   ]
  },
  {
   "cell_type": "markdown",
   "metadata": {
    "deletable": true,
    "editable": true
   },
   "source": [
    "### Fully Train the Model\n",
    "Now that you got a good accuracy with a single CIFAR-10 batch, try it with all five batches."
   ]
  },
  {
   "cell_type": "code",
   "execution_count": 56,
   "metadata": {
    "collapsed": false,
    "deletable": true,
    "editable": true
   },
   "outputs": [
    {
     "name": "stdout",
     "output_type": "stream",
     "text": [
      "Training...\n",
      "Epoch  1, CIFAR-10 Batch 1:  Loss:    2.3122 Validation Accuracy:0.139400\n",
      "Epoch  1, CIFAR-10 Batch 2:  Loss:    2.2353 Validation Accuracy:0.187400\n",
      "Epoch  1, CIFAR-10 Batch 3:  Loss:    2.0207 Validation Accuracy:0.247400\n",
      "Epoch  1, CIFAR-10 Batch 4:  Loss:    1.8594 Validation Accuracy:0.320400\n",
      "Epoch  1, CIFAR-10 Batch 5:  Loss:    1.8227 Validation Accuracy:0.346400\n",
      "Epoch  2, CIFAR-10 Batch 1:  Loss:    1.8199 Validation Accuracy:0.382000\n",
      "Epoch  2, CIFAR-10 Batch 2:  Loss:    1.6409 Validation Accuracy:0.400000\n",
      "Epoch  2, CIFAR-10 Batch 3:  Loss:    1.5248 Validation Accuracy:0.404400\n",
      "Epoch  2, CIFAR-10 Batch 4:  Loss:    1.5172 Validation Accuracy:0.426200\n",
      "Epoch  2, CIFAR-10 Batch 5:  Loss:    1.5668 Validation Accuracy:0.440800\n",
      "Epoch  3, CIFAR-10 Batch 1:  Loss:    1.6368 Validation Accuracy:0.460600\n",
      "Epoch  3, CIFAR-10 Batch 2:  Loss:    1.5074 Validation Accuracy:0.465000\n",
      "Epoch  3, CIFAR-10 Batch 3:  Loss:    1.3810 Validation Accuracy:0.450000\n",
      "Epoch  3, CIFAR-10 Batch 4:  Loss:    1.3763 Validation Accuracy:0.466000\n",
      "Epoch  3, CIFAR-10 Batch 5:  Loss:    1.4467 Validation Accuracy:0.480600\n",
      "Epoch  4, CIFAR-10 Batch 1:  Loss:    1.5527 Validation Accuracy:0.478800\n",
      "Epoch  4, CIFAR-10 Batch 2:  Loss:    1.4495 Validation Accuracy:0.493800\n",
      "Epoch  4, CIFAR-10 Batch 3:  Loss:    1.2923 Validation Accuracy:0.485200\n",
      "Epoch  4, CIFAR-10 Batch 4:  Loss:    1.2997 Validation Accuracy:0.490200\n",
      "Epoch  4, CIFAR-10 Batch 5:  Loss:    1.3707 Validation Accuracy:0.505200\n",
      "Epoch  5, CIFAR-10 Batch 1:  Loss:    1.4495 Validation Accuracy:0.506600\n",
      "Epoch  5, CIFAR-10 Batch 2:  Loss:    1.3715 Validation Accuracy:0.508600\n",
      "Epoch  5, CIFAR-10 Batch 3:  Loss:    1.2300 Validation Accuracy:0.505600\n",
      "Epoch  5, CIFAR-10 Batch 4:  Loss:    1.2281 Validation Accuracy:0.513000\n",
      "Epoch  5, CIFAR-10 Batch 5:  Loss:    1.2906 Validation Accuracy:0.523200\n",
      "Epoch  6, CIFAR-10 Batch 1:  Loss:    1.3985 Validation Accuracy:0.517800\n",
      "Epoch  6, CIFAR-10 Batch 2:  Loss:    1.3111 Validation Accuracy:0.523200\n",
      "Epoch  6, CIFAR-10 Batch 3:  Loss:    1.1774 Validation Accuracy:0.519400\n",
      "Epoch  6, CIFAR-10 Batch 4:  Loss:    1.1723 Validation Accuracy:0.523200\n",
      "Epoch  6, CIFAR-10 Batch 5:  Loss:    1.2287 Validation Accuracy:0.537800\n",
      "Epoch  7, CIFAR-10 Batch 1:  Loss:    1.3422 Validation Accuracy:0.535200\n",
      "Epoch  7, CIFAR-10 Batch 2:  Loss:    1.2637 Validation Accuracy:0.538000\n",
      "Epoch  7, CIFAR-10 Batch 3:  Loss:    1.1368 Validation Accuracy:0.524800\n",
      "Epoch  7, CIFAR-10 Batch 4:  Loss:    1.0925 Validation Accuracy:0.538200\n",
      "Epoch  7, CIFAR-10 Batch 5:  Loss:    1.1744 Validation Accuracy:0.547600\n",
      "Epoch  8, CIFAR-10 Batch 1:  Loss:    1.2967 Validation Accuracy:0.546400\n",
      "Epoch  8, CIFAR-10 Batch 2:  Loss:    1.2118 Validation Accuracy:0.551800\n",
      "Epoch  8, CIFAR-10 Batch 3:  Loss:    1.1068 Validation Accuracy:0.544200\n",
      "Epoch  8, CIFAR-10 Batch 4:  Loss:    1.0388 Validation Accuracy:0.556400\n",
      "Epoch  8, CIFAR-10 Batch 5:  Loss:    1.1259 Validation Accuracy:0.559000\n",
      "Epoch  9, CIFAR-10 Batch 1:  Loss:    1.2509 Validation Accuracy:0.554000\n",
      "Epoch  9, CIFAR-10 Batch 2:  Loss:    1.1642 Validation Accuracy:0.558000\n",
      "Epoch  9, CIFAR-10 Batch 3:  Loss:    1.0532 Validation Accuracy:0.558600\n",
      "Epoch  9, CIFAR-10 Batch 4:  Loss:    0.9892 Validation Accuracy:0.565600\n",
      "Epoch  9, CIFAR-10 Batch 5:  Loss:    1.0904 Validation Accuracy:0.564200\n",
      "Epoch 10, CIFAR-10 Batch 1:  Loss:    1.1795 Validation Accuracy:0.571000\n",
      "Epoch 10, CIFAR-10 Batch 2:  Loss:    1.1242 Validation Accuracy:0.563600\n",
      "Epoch 10, CIFAR-10 Batch 3:  Loss:    1.0146 Validation Accuracy:0.566000\n",
      "Epoch 10, CIFAR-10 Batch 4:  Loss:    0.9578 Validation Accuracy:0.571000\n",
      "Epoch 10, CIFAR-10 Batch 5:  Loss:    1.0480 Validation Accuracy:0.570600\n",
      "Epoch 11, CIFAR-10 Batch 1:  Loss:    1.1418 Validation Accuracy:0.573400\n",
      "Epoch 11, CIFAR-10 Batch 2:  Loss:    1.0849 Validation Accuracy:0.574600\n",
      "Epoch 11, CIFAR-10 Batch 3:  Loss:    0.9890 Validation Accuracy:0.572200\n",
      "Epoch 11, CIFAR-10 Batch 4:  Loss:    0.9150 Validation Accuracy:0.580000\n",
      "Epoch 11, CIFAR-10 Batch 5:  Loss:    1.0119 Validation Accuracy:0.581000\n",
      "Epoch 12, CIFAR-10 Batch 1:  Loss:    1.1290 Validation Accuracy:0.583200\n",
      "Epoch 12, CIFAR-10 Batch 2:  Loss:    1.0670 Validation Accuracy:0.586000\n",
      "Epoch 12, CIFAR-10 Batch 3:  Loss:    0.9457 Validation Accuracy:0.578000\n",
      "Epoch 12, CIFAR-10 Batch 4:  Loss:    0.8920 Validation Accuracy:0.588000\n",
      "Epoch 12, CIFAR-10 Batch 5:  Loss:    0.9888 Validation Accuracy:0.591400\n",
      "Epoch 13, CIFAR-10 Batch 1:  Loss:    1.0669 Validation Accuracy:0.591600\n",
      "Epoch 13, CIFAR-10 Batch 2:  Loss:    1.0284 Validation Accuracy:0.582800\n",
      "Epoch 13, CIFAR-10 Batch 3:  Loss:    0.9112 Validation Accuracy:0.578400\n",
      "Epoch 13, CIFAR-10 Batch 4:  Loss:    0.8675 Validation Accuracy:0.586400\n",
      "Epoch 13, CIFAR-10 Batch 5:  Loss:    0.9651 Validation Accuracy:0.592400\n",
      "Epoch 14, CIFAR-10 Batch 1:  Loss:    1.0361 Validation Accuracy:0.596800\n",
      "Epoch 14, CIFAR-10 Batch 2:  Loss:    0.9808 Validation Accuracy:0.597400\n",
      "Epoch 14, CIFAR-10 Batch 3:  Loss:    0.8993 Validation Accuracy:0.581600\n",
      "Epoch 14, CIFAR-10 Batch 4:  Loss:    0.8194 Validation Accuracy:0.596800\n",
      "Epoch 14, CIFAR-10 Batch 5:  Loss:    0.9213 Validation Accuracy:0.596400\n",
      "Epoch 15, CIFAR-10 Batch 1:  Loss:    0.9970 Validation Accuracy:0.608000\n",
      "Epoch 15, CIFAR-10 Batch 2:  Loss:    0.9680 Validation Accuracy:0.598400\n",
      "Epoch 15, CIFAR-10 Batch 3:  Loss:    0.8632 Validation Accuracy:0.588600\n",
      "Epoch 15, CIFAR-10 Batch 4:  Loss:    0.7952 Validation Accuracy:0.597600\n",
      "Epoch 15, CIFAR-10 Batch 5:  Loss:    0.8982 Validation Accuracy:0.598800\n",
      "Epoch 16, CIFAR-10 Batch 1:  Loss:    0.9752 Validation Accuracy:0.608400\n",
      "Epoch 16, CIFAR-10 Batch 2:  Loss:    0.9488 Validation Accuracy:0.605000\n",
      "Epoch 16, CIFAR-10 Batch 3:  Loss:    0.8203 Validation Accuracy:0.599600\n",
      "Epoch 16, CIFAR-10 Batch 4:  Loss:    0.7692 Validation Accuracy:0.605400\n",
      "Epoch 16, CIFAR-10 Batch 5:  Loss:    0.8727 Validation Accuracy:0.602400\n",
      "Epoch 17, CIFAR-10 Batch 1:  Loss:    0.9391 Validation Accuracy:0.618200\n",
      "Epoch 17, CIFAR-10 Batch 2:  Loss:    0.8998 Validation Accuracy:0.612000\n",
      "Epoch 17, CIFAR-10 Batch 3:  Loss:    0.7882 Validation Accuracy:0.599800\n",
      "Epoch 17, CIFAR-10 Batch 4:  Loss:    0.7524 Validation Accuracy:0.608800\n",
      "Epoch 17, CIFAR-10 Batch 5:  Loss:    0.8423 Validation Accuracy:0.609400\n",
      "Epoch 18, CIFAR-10 Batch 1:  Loss:    0.9125 Validation Accuracy:0.623800\n",
      "Epoch 18, CIFAR-10 Batch 2:  Loss:    0.8730 Validation Accuracy:0.611400\n",
      "Epoch 18, CIFAR-10 Batch 3:  Loss:    0.7609 Validation Accuracy:0.600600\n",
      "Epoch 18, CIFAR-10 Batch 4:  Loss:    0.7400 Validation Accuracy:0.612800\n",
      "Epoch 18, CIFAR-10 Batch 5:  Loss:    0.8509 Validation Accuracy:0.605400\n",
      "Epoch 19, CIFAR-10 Batch 1:  Loss:    0.8731 Validation Accuracy:0.617800\n",
      "Epoch 19, CIFAR-10 Batch 2:  Loss:    0.8822 Validation Accuracy:0.609200\n",
      "Epoch 19, CIFAR-10 Batch 3:  Loss:    0.7370 Validation Accuracy:0.603200\n",
      "Epoch 19, CIFAR-10 Batch 4:  Loss:    0.7026 Validation Accuracy:0.618800\n",
      "Epoch 19, CIFAR-10 Batch 5:  Loss:    0.7888 Validation Accuracy:0.618400\n",
      "Epoch 20, CIFAR-10 Batch 1:  Loss:    0.8418 Validation Accuracy:0.617400\n",
      "Epoch 20, CIFAR-10 Batch 2:  Loss:    0.8617 Validation Accuracy:0.620600\n",
      "Epoch 20, CIFAR-10 Batch 3:  Loss:    0.7028 Validation Accuracy:0.611600\n",
      "Epoch 20, CIFAR-10 Batch 4:  Loss:    0.6732 Validation Accuracy:0.620800\n",
      "Epoch 20, CIFAR-10 Batch 5:  Loss:    0.7648 Validation Accuracy:0.617600\n",
      "Epoch 21, CIFAR-10 Batch 1:  Loss:    0.7966 Validation Accuracy:0.626400\n",
      "Epoch 21, CIFAR-10 Batch 2:  Loss:    0.8293 Validation Accuracy:0.622800\n",
      "Epoch 21, CIFAR-10 Batch 3:  Loss:    0.7040 Validation Accuracy:0.601800\n",
      "Epoch 21, CIFAR-10 Batch 4:  Loss:    0.6798 Validation Accuracy:0.620600\n",
      "Epoch 21, CIFAR-10 Batch 5:  Loss:    0.7529 Validation Accuracy:0.620800\n",
      "Epoch 22, CIFAR-10 Batch 1:  Loss:    0.7950 Validation Accuracy:0.623400\n",
      "Epoch 22, CIFAR-10 Batch 2:  Loss:    0.8168 Validation Accuracy:0.609600\n",
      "Epoch 22, CIFAR-10 Batch 3:  Loss:    0.7034 Validation Accuracy:0.619800\n",
      "Epoch 22, CIFAR-10 Batch 4:  Loss:    0.6392 Validation Accuracy:0.627400\n",
      "Epoch 22, CIFAR-10 Batch 5:  Loss:    0.7347 Validation Accuracy:0.625600\n",
      "Epoch 23, CIFAR-10 Batch 1:  Loss:    0.8221 Validation Accuracy:0.614200\n",
      "Epoch 23, CIFAR-10 Batch 2:  Loss:    0.8065 Validation Accuracy:0.595000\n",
      "Epoch 23, CIFAR-10 Batch 3:  Loss:    0.6516 Validation Accuracy:0.624400\n",
      "Epoch 23, CIFAR-10 Batch 4:  Loss:    0.6457 Validation Accuracy:0.626000\n",
      "Epoch 23, CIFAR-10 Batch 5:  Loss:    0.6957 Validation Accuracy:0.631200\n",
      "Epoch 24, CIFAR-10 Batch 1:  Loss:    0.7508 Validation Accuracy:0.625000\n",
      "Epoch 24, CIFAR-10 Batch 2:  Loss:    0.7857 Validation Accuracy:0.608400\n",
      "Epoch 24, CIFAR-10 Batch 3:  Loss:    0.6517 Validation Accuracy:0.617200\n",
      "Epoch 24, CIFAR-10 Batch 4:  Loss:    0.6043 Validation Accuracy:0.629200\n",
      "Epoch 24, CIFAR-10 Batch 5:  Loss:    0.6887 Validation Accuracy:0.631000\n",
      "Epoch 25, CIFAR-10 Batch 1:  Loss:    0.7294 Validation Accuracy:0.627800\n",
      "Epoch 25, CIFAR-10 Batch 2:  Loss:    0.7647 Validation Accuracy:0.608600\n",
      "Epoch 25, CIFAR-10 Batch 3:  Loss:    0.6185 Validation Accuracy:0.623400\n",
      "Epoch 25, CIFAR-10 Batch 4:  Loss:    0.6092 Validation Accuracy:0.635000\n",
      "Epoch 25, CIFAR-10 Batch 5:  Loss:    0.6684 Validation Accuracy:0.631600\n",
      "Epoch 26, CIFAR-10 Batch 1:  Loss:    0.6922 Validation Accuracy:0.636400\n",
      "Epoch 26, CIFAR-10 Batch 2:  Loss:    0.7289 Validation Accuracy:0.619800\n",
      "Epoch 26, CIFAR-10 Batch 3:  Loss:    0.6309 Validation Accuracy:0.617800\n",
      "Epoch 26, CIFAR-10 Batch 4:  Loss:    0.5725 Validation Accuracy:0.636600\n",
      "Epoch 26, CIFAR-10 Batch 5:  Loss:    0.6536 Validation Accuracy:0.633000\n",
      "Epoch 27, CIFAR-10 Batch 1:  Loss:    0.6831 Validation Accuracy:0.634600\n",
      "Epoch 27, CIFAR-10 Batch 2:  Loss:    0.6915 Validation Accuracy:0.632000\n",
      "Epoch 27, CIFAR-10 Batch 3:  Loss:    0.6150 Validation Accuracy:0.622400\n",
      "Epoch 27, CIFAR-10 Batch 4:  Loss:    0.5594 Validation Accuracy:0.637600\n",
      "Epoch 27, CIFAR-10 Batch 5:  Loss:    0.6401 Validation Accuracy:0.636400\n",
      "Epoch 28, CIFAR-10 Batch 1:  Loss:    0.6562 Validation Accuracy:0.638200\n",
      "Epoch 28, CIFAR-10 Batch 2:  Loss:    0.6509 Validation Accuracy:0.637600\n",
      "Epoch 28, CIFAR-10 Batch 3:  Loss:    0.6131 Validation Accuracy:0.615000\n",
      "Epoch 28, CIFAR-10 Batch 4:  Loss:    0.5609 Validation Accuracy:0.627200\n",
      "Epoch 28, CIFAR-10 Batch 5:  Loss:    0.6263 Validation Accuracy:0.635400\n",
      "Epoch 29, CIFAR-10 Batch 1:  Loss:    0.6352 Validation Accuracy:0.635400\n",
      "Epoch 29, CIFAR-10 Batch 2:  Loss:    0.6574 Validation Accuracy:0.625200\n",
      "Epoch 29, CIFAR-10 Batch 3:  Loss:    0.5645 Validation Accuracy:0.629000\n",
      "Epoch 29, CIFAR-10 Batch 4:  Loss:    0.5526 Validation Accuracy:0.630600\n",
      "Epoch 29, CIFAR-10 Batch 5:  Loss:    0.6033 Validation Accuracy:0.644600\n",
      "Epoch 30, CIFAR-10 Batch 1:  Loss:    0.6272 Validation Accuracy:0.645400\n",
      "Epoch 30, CIFAR-10 Batch 2:  Loss:    0.6214 Validation Accuracy:0.630600\n",
      "Epoch 30, CIFAR-10 Batch 3:  Loss:    0.5386 Validation Accuracy:0.636400\n",
      "Epoch 30, CIFAR-10 Batch 4:  Loss:    0.5308 Validation Accuracy:0.632000\n",
      "Epoch 30, CIFAR-10 Batch 5:  Loss:    0.5691 Validation Accuracy:0.643600\n",
      "Epoch 31, CIFAR-10 Batch 1:  Loss:    0.6074 Validation Accuracy:0.641800\n",
      "Epoch 31, CIFAR-10 Batch 2:  Loss:    0.6090 Validation Accuracy:0.628600\n",
      "Epoch 31, CIFAR-10 Batch 3:  Loss:    0.5220 Validation Accuracy:0.636200\n",
      "Epoch 31, CIFAR-10 Batch 4:  Loss:    0.5076 Validation Accuracy:0.635200\n",
      "Epoch 31, CIFAR-10 Batch 5:  Loss:    0.5617 Validation Accuracy:0.645000\n",
      "Epoch 32, CIFAR-10 Batch 1:  Loss:    0.5969 Validation Accuracy:0.643600\n",
      "Epoch 32, CIFAR-10 Batch 2:  Loss:    0.5848 Validation Accuracy:0.636000\n",
      "Epoch 32, CIFAR-10 Batch 3:  Loss:    0.5107 Validation Accuracy:0.637200\n",
      "Epoch 32, CIFAR-10 Batch 4:  Loss:    0.5108 Validation Accuracy:0.630600\n",
      "Epoch 32, CIFAR-10 Batch 5:  Loss:    0.5329 Validation Accuracy:0.643200\n",
      "Epoch 33, CIFAR-10 Batch 1:  Loss:    0.5870 Validation Accuracy:0.642000\n",
      "Epoch 33, CIFAR-10 Batch 2:  Loss:    0.5883 Validation Accuracy:0.637200\n",
      "Epoch 33, CIFAR-10 Batch 3:  Loss:    0.4952 Validation Accuracy:0.645200\n",
      "Epoch 33, CIFAR-10 Batch 4:  Loss:    0.4951 Validation Accuracy:0.640200\n",
      "Epoch 33, CIFAR-10 Batch 5:  Loss:    0.5237 Validation Accuracy:0.635800\n",
      "Epoch 34, CIFAR-10 Batch 1:  Loss:    0.5504 Validation Accuracy:0.648400\n",
      "Epoch 34, CIFAR-10 Batch 2:  Loss:    0.5729 Validation Accuracy:0.643200\n",
      "Epoch 34, CIFAR-10 Batch 3:  Loss:    0.5187 Validation Accuracy:0.642600\n",
      "Epoch 34, CIFAR-10 Batch 4:  Loss:    0.4653 Validation Accuracy:0.641800\n",
      "Epoch 34, CIFAR-10 Batch 5:  Loss:    0.5238 Validation Accuracy:0.640600\n",
      "Epoch 35, CIFAR-10 Batch 1:  Loss:    0.5295 Validation Accuracy:0.655400\n",
      "Epoch 35, CIFAR-10 Batch 2:  Loss:    0.5425 Validation Accuracy:0.640000\n",
      "Epoch 35, CIFAR-10 Batch 3:  Loss:    0.4956 Validation Accuracy:0.643800\n",
      "Epoch 35, CIFAR-10 Batch 4:  Loss:    0.4630 Validation Accuracy:0.641000\n",
      "Epoch 35, CIFAR-10 Batch 5:  Loss:    0.4800 Validation Accuracy:0.647600\n",
      "Epoch 36, CIFAR-10 Batch 1:  Loss:    0.5046 Validation Accuracy:0.651800\n",
      "Epoch 36, CIFAR-10 Batch 2:  Loss:    0.5154 Validation Accuracy:0.644800\n",
      "Epoch 36, CIFAR-10 Batch 3:  Loss:    0.4531 Validation Accuracy:0.648800\n",
      "Epoch 36, CIFAR-10 Batch 4:  Loss:    0.4334 Validation Accuracy:0.645400\n",
      "Epoch 36, CIFAR-10 Batch 5:  Loss:    0.4760 Validation Accuracy:0.643400\n",
      "Epoch 37, CIFAR-10 Batch 1:  Loss:    0.4739 Validation Accuracy:0.652600\n",
      "Epoch 37, CIFAR-10 Batch 2:  Loss:    0.5089 Validation Accuracy:0.640600\n",
      "Epoch 37, CIFAR-10 Batch 3:  Loss:    0.4275 Validation Accuracy:0.649400\n",
      "Epoch 37, CIFAR-10 Batch 4:  Loss:    0.4416 Validation Accuracy:0.634400\n",
      "Epoch 37, CIFAR-10 Batch 5:  Loss:    0.4525 Validation Accuracy:0.644800\n",
      "Epoch 38, CIFAR-10 Batch 1:  Loss:    0.4815 Validation Accuracy:0.659200\n",
      "Epoch 38, CIFAR-10 Batch 2:  Loss:    0.5172 Validation Accuracy:0.632400\n",
      "Epoch 38, CIFAR-10 Batch 3:  Loss:    0.4779 Validation Accuracy:0.644800\n",
      "Epoch 38, CIFAR-10 Batch 4:  Loss:    0.4151 Validation Accuracy:0.654800\n",
      "Epoch 38, CIFAR-10 Batch 5:  Loss:    0.4325 Validation Accuracy:0.646600\n",
      "Epoch 39, CIFAR-10 Batch 1:  Loss:    0.4970 Validation Accuracy:0.647800\n",
      "Epoch 39, CIFAR-10 Batch 2:  Loss:    0.4892 Validation Accuracy:0.635200\n",
      "Epoch 39, CIFAR-10 Batch 3:  Loss:    0.4607 Validation Accuracy:0.635800\n",
      "Epoch 39, CIFAR-10 Batch 4:  Loss:    0.4032 Validation Accuracy:0.649400\n",
      "Epoch 39, CIFAR-10 Batch 5:  Loss:    0.4063 Validation Accuracy:0.650000\n",
      "Epoch 40, CIFAR-10 Batch 1:  Loss:    0.4820 Validation Accuracy:0.648400\n",
      "Epoch 40, CIFAR-10 Batch 2:  Loss:    0.4579 Validation Accuracy:0.635600\n",
      "Epoch 40, CIFAR-10 Batch 3:  Loss:    0.4351 Validation Accuracy:0.640400\n",
      "Epoch 40, CIFAR-10 Batch 4:  Loss:    0.3865 Validation Accuracy:0.648600\n",
      "Epoch 40, CIFAR-10 Batch 5:  Loss:    0.3887 Validation Accuracy:0.652200\n",
      "Epoch 41, CIFAR-10 Batch 1:  Loss:    0.4591 Validation Accuracy:0.649800\n",
      "Epoch 41, CIFAR-10 Batch 2:  Loss:    0.4384 Validation Accuracy:0.640000\n",
      "Epoch 41, CIFAR-10 Batch 3:  Loss:    0.4125 Validation Accuracy:0.638800\n",
      "Epoch 41, CIFAR-10 Batch 4:  Loss:    0.3871 Validation Accuracy:0.647800\n",
      "Epoch 41, CIFAR-10 Batch 5:  Loss:    0.3813 Validation Accuracy:0.652000\n",
      "Epoch 42, CIFAR-10 Batch 1:  Loss:    0.4529 Validation Accuracy:0.647000\n",
      "Epoch 42, CIFAR-10 Batch 2:  Loss:    0.4369 Validation Accuracy:0.654600\n",
      "Epoch 42, CIFAR-10 Batch 3:  Loss:    0.3848 Validation Accuracy:0.652800\n",
      "Epoch 42, CIFAR-10 Batch 4:  Loss:    0.3733 Validation Accuracy:0.650000\n",
      "Epoch 42, CIFAR-10 Batch 5:  Loss:    0.3639 Validation Accuracy:0.647800\n",
      "Epoch 43, CIFAR-10 Batch 1:  Loss:    0.4077 Validation Accuracy:0.654000\n",
      "Epoch 43, CIFAR-10 Batch 2:  Loss:    0.4144 Validation Accuracy:0.650600\n",
      "Epoch 43, CIFAR-10 Batch 3:  Loss:    0.3610 Validation Accuracy:0.651000\n",
      "Epoch 43, CIFAR-10 Batch 4:  Loss:    0.3664 Validation Accuracy:0.649000\n",
      "Epoch 43, CIFAR-10 Batch 5:  Loss:    0.3603 Validation Accuracy:0.651400\n",
      "Epoch 44, CIFAR-10 Batch 1:  Loss:    0.4164 Validation Accuracy:0.651600\n",
      "Epoch 44, CIFAR-10 Batch 2:  Loss:    0.4029 Validation Accuracy:0.654600\n",
      "Epoch 44, CIFAR-10 Batch 3:  Loss:    0.3563 Validation Accuracy:0.654000\n",
      "Epoch 44, CIFAR-10 Batch 4:  Loss:    0.3621 Validation Accuracy:0.649200\n",
      "Epoch 44, CIFAR-10 Batch 5:  Loss:    0.3321 Validation Accuracy:0.653200\n",
      "Epoch 45, CIFAR-10 Batch 1:  Loss:    0.3892 Validation Accuracy:0.654800\n",
      "Epoch 45, CIFAR-10 Batch 2:  Loss:    0.3814 Validation Accuracy:0.654400\n",
      "Epoch 45, CIFAR-10 Batch 3:  Loss:    0.3304 Validation Accuracy:0.660600\n",
      "Epoch 45, CIFAR-10 Batch 4:  Loss:    0.3286 Validation Accuracy:0.649200\n",
      "Epoch 45, CIFAR-10 Batch 5:  Loss:    0.3233 Validation Accuracy:0.652400\n",
      "Epoch 46, CIFAR-10 Batch 1:  Loss:    0.3831 Validation Accuracy:0.652200\n",
      "Epoch 46, CIFAR-10 Batch 2:  Loss:    0.3621 Validation Accuracy:0.648400\n",
      "Epoch 46, CIFAR-10 Batch 3:  Loss:    0.3057 Validation Accuracy:0.661200\n",
      "Epoch 46, CIFAR-10 Batch 4:  Loss:    0.3123 Validation Accuracy:0.648200\n",
      "Epoch 46, CIFAR-10 Batch 5:  Loss:    0.3191 Validation Accuracy:0.661200\n",
      "Epoch 47, CIFAR-10 Batch 1:  Loss:    0.3507 Validation Accuracy:0.654400\n",
      "Epoch 47, CIFAR-10 Batch 2:  Loss:    0.3513 Validation Accuracy:0.656000\n",
      "Epoch 47, CIFAR-10 Batch 3:  Loss:    0.3051 Validation Accuracy:0.658000\n",
      "Epoch 47, CIFAR-10 Batch 4:  Loss:    0.3055 Validation Accuracy:0.646800\n",
      "Epoch 47, CIFAR-10 Batch 5:  Loss:    0.2978 Validation Accuracy:0.655000\n",
      "Epoch 48, CIFAR-10 Batch 1:  Loss:    0.3534 Validation Accuracy:0.656000\n",
      "Epoch 48, CIFAR-10 Batch 2:  Loss:    0.3395 Validation Accuracy:0.653800\n",
      "Epoch 48, CIFAR-10 Batch 3:  Loss:    0.3056 Validation Accuracy:0.657000\n",
      "Epoch 48, CIFAR-10 Batch 4:  Loss:    0.3165 Validation Accuracy:0.652400\n",
      "Epoch 48, CIFAR-10 Batch 5:  Loss:    0.2991 Validation Accuracy:0.658000\n",
      "Epoch 49, CIFAR-10 Batch 1:  Loss:    0.3462 Validation Accuracy:0.650000\n",
      "Epoch 49, CIFAR-10 Batch 2:  Loss:    0.3298 Validation Accuracy:0.646600\n",
      "Epoch 49, CIFAR-10 Batch 3:  Loss:    0.2787 Validation Accuracy:0.658600\n",
      "Epoch 49, CIFAR-10 Batch 4:  Loss:    0.3012 Validation Accuracy:0.657000\n",
      "Epoch 49, CIFAR-10 Batch 5:  Loss:    0.2918 Validation Accuracy:0.657600\n",
      "Epoch 50, CIFAR-10 Batch 1:  Loss:    0.3336 Validation Accuracy:0.656200\n",
      "Epoch 50, CIFAR-10 Batch 2:  Loss:    0.3178 Validation Accuracy:0.646200\n",
      "Epoch 50, CIFAR-10 Batch 3:  Loss:    0.2705 Validation Accuracy:0.656600\n",
      "Epoch 50, CIFAR-10 Batch 4:  Loss:    0.2806 Validation Accuracy:0.648400\n",
      "Epoch 50, CIFAR-10 Batch 5:  Loss:    0.2794 Validation Accuracy:0.662000\n",
      "Epoch 51, CIFAR-10 Batch 1:  Loss:    0.3119 Validation Accuracy:0.658200\n",
      "Epoch 51, CIFAR-10 Batch 2:  Loss:    0.2936 Validation Accuracy:0.654800\n",
      "Epoch 51, CIFAR-10 Batch 3:  Loss:    0.2694 Validation Accuracy:0.661400\n",
      "Epoch 51, CIFAR-10 Batch 4:  Loss:    0.2674 Validation Accuracy:0.657000\n",
      "Epoch 51, CIFAR-10 Batch 5:  Loss:    0.2813 Validation Accuracy:0.654600\n",
      "Epoch 52, CIFAR-10 Batch 1:  Loss:    0.3147 Validation Accuracy:0.654400\n",
      "Epoch 52, CIFAR-10 Batch 2:  Loss:    0.3031 Validation Accuracy:0.659400\n",
      "Epoch 52, CIFAR-10 Batch 3:  Loss:    0.2633 Validation Accuracy:0.655800\n",
      "Epoch 52, CIFAR-10 Batch 4:  Loss:    0.2597 Validation Accuracy:0.658200\n",
      "Epoch 52, CIFAR-10 Batch 5:  Loss:    0.2573 Validation Accuracy:0.657400\n",
      "Epoch 53, CIFAR-10 Batch 1:  Loss:    0.2770 Validation Accuracy:0.661800\n",
      "Epoch 53, CIFAR-10 Batch 2:  Loss:    0.2781 Validation Accuracy:0.663600\n",
      "Epoch 53, CIFAR-10 Batch 3:  Loss:    0.2504 Validation Accuracy:0.653200\n",
      "Epoch 53, CIFAR-10 Batch 4:  Loss:    0.2626 Validation Accuracy:0.658600\n",
      "Epoch 53, CIFAR-10 Batch 5:  Loss:    0.2593 Validation Accuracy:0.652800\n",
      "Epoch 54, CIFAR-10 Batch 1:  Loss:    0.2798 Validation Accuracy:0.656200\n",
      "Epoch 54, CIFAR-10 Batch 2:  Loss:    0.2710 Validation Accuracy:0.660600\n",
      "Epoch 54, CIFAR-10 Batch 3:  Loss:    0.2587 Validation Accuracy:0.656000\n",
      "Epoch 54, CIFAR-10 Batch 4:  Loss:    0.2511 Validation Accuracy:0.657000\n",
      "Epoch 54, CIFAR-10 Batch 5:  Loss:    0.2504 Validation Accuracy:0.654800\n",
      "Epoch 55, CIFAR-10 Batch 1:  Loss:    0.2556 Validation Accuracy:0.664200\n",
      "Epoch 55, CIFAR-10 Batch 2:  Loss:    0.2889 Validation Accuracy:0.651600\n",
      "Epoch 55, CIFAR-10 Batch 3:  Loss:    0.2358 Validation Accuracy:0.666000\n",
      "Epoch 55, CIFAR-10 Batch 4:  Loss:    0.2596 Validation Accuracy:0.650200\n",
      "Epoch 55, CIFAR-10 Batch 5:  Loss:    0.2570 Validation Accuracy:0.655600\n",
      "Epoch 56, CIFAR-10 Batch 1:  Loss:    0.2511 Validation Accuracy:0.659200\n",
      "Epoch 56, CIFAR-10 Batch 2:  Loss:    0.2674 Validation Accuracy:0.662600\n",
      "Epoch 56, CIFAR-10 Batch 3:  Loss:    0.2257 Validation Accuracy:0.661600\n",
      "Epoch 56, CIFAR-10 Batch 4:  Loss:    0.2561 Validation Accuracy:0.655200\n",
      "Epoch 56, CIFAR-10 Batch 5:  Loss:    0.2217 Validation Accuracy:0.656600\n",
      "Epoch 57, CIFAR-10 Batch 1:  Loss:    0.2318 Validation Accuracy:0.657800\n",
      "Epoch 57, CIFAR-10 Batch 2:  Loss:    0.2636 Validation Accuracy:0.646800\n",
      "Epoch 57, CIFAR-10 Batch 3:  Loss:    0.2214 Validation Accuracy:0.653800\n",
      "Epoch 57, CIFAR-10 Batch 4:  Loss:    0.2389 Validation Accuracy:0.650600\n",
      "Epoch 57, CIFAR-10 Batch 5:  Loss:    0.2377 Validation Accuracy:0.653600\n",
      "Epoch 58, CIFAR-10 Batch 1:  Loss:    0.2289 Validation Accuracy:0.655200\n",
      "Epoch 58, CIFAR-10 Batch 2:  Loss:    0.2720 Validation Accuracy:0.640000\n",
      "Epoch 58, CIFAR-10 Batch 3:  Loss:    0.2236 Validation Accuracy:0.663400\n",
      "Epoch 58, CIFAR-10 Batch 4:  Loss:    0.2494 Validation Accuracy:0.648400\n",
      "Epoch 58, CIFAR-10 Batch 5:  Loss:    0.2323 Validation Accuracy:0.649200\n",
      "Epoch 59, CIFAR-10 Batch 1:  Loss:    0.2577 Validation Accuracy:0.640800\n",
      "Epoch 59, CIFAR-10 Batch 2:  Loss:    0.2816 Validation Accuracy:0.634000\n",
      "Epoch 59, CIFAR-10 Batch 3:  Loss:    0.2101 Validation Accuracy:0.659600\n",
      "Epoch 59, CIFAR-10 Batch 4:  Loss:    0.2506 Validation Accuracy:0.644400\n",
      "Epoch 59, CIFAR-10 Batch 5:  Loss:    0.2435 Validation Accuracy:0.651800\n",
      "Epoch 60, CIFAR-10 Batch 1:  Loss:    0.2290 Validation Accuracy:0.652000\n",
      "Epoch 60, CIFAR-10 Batch 2:  Loss:    0.2444 Validation Accuracy:0.631200\n",
      "Epoch 60, CIFAR-10 Batch 3:  Loss:    0.2150 Validation Accuracy:0.649200\n",
      "Epoch 60, CIFAR-10 Batch 4:  Loss:    0.2495 Validation Accuracy:0.643200\n",
      "Epoch 60, CIFAR-10 Batch 5:  Loss:    0.2169 Validation Accuracy:0.658200\n"
     ]
    }
   ],
   "source": [
    "\"\"\"\n",
    "DON'T MODIFY ANYTHING IN THIS CELL\n",
    "\"\"\"\n",
    "save_model_path = './image_classification'\n",
    "\n",
    "print('Training...')\n",
    "with tf.Session() as sess:\n",
    "    # Initializing the variables\n",
    "    sess.run(tf.global_variables_initializer())\n",
    "    \n",
    "    # Training cycle\n",
    "    for epoch in range(epochs):\n",
    "        # Loop over all batches\n",
    "        n_batches = 5\n",
    "        for batch_i in range(1, n_batches + 1):\n",
    "            for batch_features, batch_labels in helper.load_preprocess_training_batch(batch_i, batch_size):\n",
    "                train_neural_network(sess, optimizer, keep_probability, batch_features, batch_labels)\n",
    "            print('Epoch {:>2}, CIFAR-10 Batch {}:  '.format(epoch + 1, batch_i), end='')\n",
    "            print_stats(sess, batch_features, batch_labels, cost, accuracy)\n",
    "            \n",
    "    # Save Model\n",
    "    saver = tf.train.Saver()\n",
    "    save_path = saver.save(sess, save_model_path)"
   ]
  },
  {
   "cell_type": "markdown",
   "metadata": {
    "deletable": true,
    "editable": true
   },
   "source": [
    "# Checkpoint\n",
    "The model has been saved to disk.\n",
    "## Test Model\n",
    "Test your model against the test dataset.  This will be your final accuracy. You should have an accuracy greater than 50%. If you don't, keep tweaking the model architecture and parameters."
   ]
  },
  {
   "cell_type": "code",
   "execution_count": 57,
   "metadata": {
    "collapsed": false,
    "deletable": true,
    "editable": true
   },
   "outputs": [
    {
     "name": "stdout",
     "output_type": "stream",
     "text": [
      "Testing Accuracy: 0.6405790477991105\n",
      "\n"
     ]
    },
    {
     "data": {
      "image/png": "[encoded data removed]",
      "text/plain": [
       "<matplotlib.figure.Figure at 0x7f87d29684a8>"
      ]
     },
     "metadata": {
      "image/png": {
       "height": 319,
       "width": 355
      }
     },
     "output_type": "display_data"
    }
   ],
   "source": [
    "\"\"\"\n",
    "DON'T MODIFY ANYTHING IN THIS CELL\n",
    "\"\"\"\n",
    "%matplotlib inline\n",
    "%config InlineBackend.figure_format = 'retina'\n",
    "\n",
    "import tensorflow as tf\n",
    "import pickle\n",
    "import helper\n",
    "import random\n",
    "\n",
    "# Set batch size if not already set\n",
    "try:\n",
    "    if batch_size:\n",
    "        pass\n",
    "except NameError:\n",
    "    batch_size = 64\n",
    "\n",
    "save_model_path = './image_classification'\n",
    "n_samples = 4\n",
    "top_n_predictions = 3\n",
    "\n",
    "def test_model():\n",
    "    \"\"\"\n",
    "    Test the saved model against the test dataset\n",
    "    \"\"\"\n",
    "\n",
    "    test_features, test_labels = pickle.load(open('preprocess_training.p', mode='rb'))\n",
    "    loaded_graph = tf.Graph()\n",
    "\n",
    "    with tf.Session(graph=loaded_graph) as sess:\n",
    "        # Load model\n",
    "        loader = tf.train.import_meta_graph(save_model_path + '.meta')\n",
    "        loader.restore(sess, save_model_path)\n",
    "\n",
    "        # Get Tensors from loaded model\n",
    "        loaded_x = loaded_graph.get_tensor_by_name('x:0')\n",
    "        loaded_y = loaded_graph.get_tensor_by_name('y:0')\n",
    "        loaded_keep_prob = loaded_graph.get_tensor_by_name('keep_prob:0')\n",
    "        loaded_logits = loaded_graph.get_tensor_by_name('logits:0')\n",
    "        loaded_acc = loaded_graph.get_tensor_by_name('accuracy:0')\n",
    "        \n",
    "        # Get accuracy in batches for memory limitations\n",
    "        test_batch_acc_total = 0\n",
    "        test_batch_count = 0\n",
    "        \n",
    "        for train_feature_batch, train_label_batch in helper.batch_features_labels(test_features, test_labels, batch_size):\n",
    "            test_batch_acc_total += sess.run(\n",
    "                loaded_acc,\n",
    "                feed_dict={loaded_x: train_feature_batch, loaded_y: train_label_batch, loaded_keep_prob: 1.0})\n",
    "            test_batch_count += 1\n",
    "\n",
    "        print('Testing Accuracy: {}\\n'.format(test_batch_acc_total/test_batch_count))\n",
    "\n",
    "        # Print Random Samples\n",
    "        random_test_features, random_test_labels = tuple(zip(*random.sample(list(zip(test_features, test_labels)), n_samples)))\n",
    "        random_test_predictions = sess.run(\n",
    "            tf.nn.top_k(tf.nn.softmax(loaded_logits), top_n_predictions),\n",
    "            feed_dict={loaded_x: random_test_features, loaded_y: random_test_labels, loaded_keep_prob: 1.0})\n",
    "        helper.display_image_predictions(random_test_features, random_test_labels, random_test_predictions)\n",
    "\n",
    "\n",
    "test_model()"
   ]
  },
  {
   "cell_type": "markdown",
   "metadata": {
    "deletable": true,
    "editable": true
   },
   "source": [
    "## Why 50-80% Accuracy?\n",
    "You might be wondering why you can't get an accuracy any higher. First things first, 50% isn't bad for a simple CNN.  Pure guessing would get you 10% accuracy. However, you might notice people are getting scores [well above 80%](http://rodrigob.github.io/are_we_there_yet/build/classification_datasets_results.html#43494641522d3130).  That's because we haven't taught you all there is to know about neural networks. We still need to cover a few more techniques.\n",
    "## Submitting This Project\n",
    "When submitting this project, make sure to run all the cells before saving the notebook.  Save the notebook file as \"dlnd_image_classification.ipynb\" and save it as a HTML file under \"File\" -> \"Download as\".  Include the \"helper.py\" and \"problem_unittests.py\" files in your submission."
   ]
  }
 ],
 "metadata": {
  "kernelspec": {
   "display_name": "Python 3",
   "language": "python",
   "name": "python3"
  },
  "language_info": {
   "codemirror_mode": {
    "name": "ipython",
    "version": 3
   },
   "file_extension": ".py",
   "mimetype": "text/x-python",
   "name": "python",
   "nbconvert_exporter": "python",
   "pygments_lexer": "ipython3",
   "version": "3.5.2"
  },
  "widgets": {
   "state": {},
   "version": "1.1.2"
  }
 },
 "nbformat": 4,
 "nbformat_minor": 0
}
